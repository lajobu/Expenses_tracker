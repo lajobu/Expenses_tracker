{
 "cells": [
  {
   "cell_type": "markdown",
   "metadata": {},
   "source": [
    "Expenses tracker\n",
    "Jorge Bueno Pérez"
   ]
  },
  {
   "cell_type": "markdown",
   "metadata": {},
   "source": [
    "Framework: Flask \n",
    "Databases: SQLALchemy and SQLIte3 \n",
    "Front-end: HTML, CSS and Javascript \n",
    "Back-end: Python (pandas, numpy and matplotlib)"
   ]
  },
  {
   "cell_type": "markdown",
   "metadata": {},
   "source": [
    "The code of the application will be divided in the next parts:\n",
    "\n",
    "A) Import all the necessary packages\n",
    "    A1) Flask packages\n",
    "    A2) Python packages\n",
    "\n",
    "B) Define app\n",
    "\n",
    "C) Connection with the database:\n",
    "\tC1) SQLAlchemy and SQLite3\n",
    "    \n",
    "D) Database:\n",
    "\tD1) Structure\n",
    "    D2) Export as .db\n",
    "    D3) Populate table\n",
    "    \n",
    "E)User interface and connections:\n",
    "\tE1) Login and logout pages\n",
    "\tE2) Index page\n",
    "\tE3) Income page\n",
    "\tE4) Outcome page\n",
    "\tE5) Analysis page\n",
    "\tE6) Graphs page\n",
    "    \n",
    "F) Final connection with the server"
   ]
  },
  {
   "cell_type": "markdown",
   "metadata": {},
   "source": [
    "A) Import all the necessary packages"
   ]
  },
  {
   "cell_type": "markdown",
   "metadata": {},
   "source": [
    "    A1)Flask packages:"
   ]
  },
  {
   "cell_type": "code",
   "execution_count": 2,
   "metadata": {},
   "outputs": [],
   "source": [
    "from flask import Flask, render_template, request, redirect, url_for\n",
    "from flask_sqlalchemy import SQLAlchemy \n",
    "from flask import g\n",
    "import sqlite3 "
   ]
  },
  {
   "cell_type": "markdown",
   "metadata": {},
   "source": [
    "    A2) Python packages:"
   ]
  },
  {
   "cell_type": "code",
   "execution_count": 3,
   "metadata": {},
   "outputs": [],
   "source": [
    "import numpy as np\n",
    "import pandas as pd\n",
    "import matplotlib.pyplot as plt\n",
    "import matplotlib as mp\n",
    "import io\n",
    "import base64\n",
    "import urllib"
   ]
  },
  {
   "cell_type": "markdown",
   "metadata": {},
   "source": [
    "B) Define app"
   ]
  },
  {
   "cell_type": "code",
   "execution_count": 4,
   "metadata": {},
   "outputs": [],
   "source": [
    "app = Flask(__name__)"
   ]
  },
  {
   "cell_type": "markdown",
   "metadata": {},
   "source": [
    "C) Connection with the database:"
   ]
  },
  {
   "cell_type": "markdown",
   "metadata": {},
   "source": [
    "    C1) SQLAlchemy:"
   ]
  },
  {
   "cell_type": "code",
   "execution_count": 5,
   "metadata": {},
   "outputs": [],
   "source": [
    "connection = sqlite3.connect('expenses_tracker.db', check_same_thread=False)\n",
    "DATABASE = './expenses_tracker.db'\n",
    "app = Flask(__name__)\n",
    "app.config['SQLALCHEMY_DATABASE_URI'] = 'sqlite:///expenses_tracker.db'\n",
    "app.config['SQLALCHEMY_TRACK_MODIFICATIONS'] = False\n",
    "db = SQLAlchemy(app)\n",
    "\n",
    "app.secret_key = 'developmentkey'\n",
    "\n",
    "\n",
    "def get_db():\n",
    "    db = getattr(g, '_database', None)\n",
    "    if db is None:\n",
    "        db = g._database = sqlite3.connect(DATABASE)\n",
    "    return db"
   ]
  },
  {
   "cell_type": "markdown",
   "metadata": {},
   "source": [
    "D) Database:"
   ]
  },
  {
   "cell_type": "markdown",
   "metadata": {},
   "source": [
    "    D1) Structure: It will be dividided in six parts, one for each column"
   ]
  },
  {
   "cell_type": "code",
   "execution_count": 6,
   "metadata": {},
   "outputs": [
    {
     "data": {
      "text/plain": [
       "'\\nIn case of creating a new User the argument will pass to the  __init__ method in order to initialize the object. Then\\nself, that it represent the instance of the class, bind the attributes with the given new arguments. It will be applied \\nthe same in every table.\\n'"
      ]
     },
     "execution_count": 6,
     "metadata": {},
     "output_type": "execute_result"
    }
   ],
   "source": [
    "#User has 8 columns:\n",
    "class User(db.Model):\n",
    "    __tablename__ = 'user'\n",
    "    id = db.Column(db.Integer, primary_key=True, autoincrement=True)\n",
    "    username = db.Column(db.String(30), unique=True)\n",
    "    first_name = db.Column(db.String(15), nullable=False)\n",
    "    second_name = db.Column(db.String(25), nullable=True, default='N/A')\n",
    "    email = db.Column(db.String(50), nullable=False)\n",
    "    user_city = db.Column(db.String(15), nullable=True, default='N/A')\n",
    "    prof_status = db.Column(db.String(15), nullable=True, default='N/A')\n",
    "    password = db.Column(db.String(100), nullable=False)\n",
    "    outcomes = db.relationship('Outcome', backref='categories', lazy=True)\n",
    "    incomes = db.relationship('Income', backref='categories1', lazy=True)\n",
    "\n",
    "    def __init__(self, username, first_name, second_name, email, user_city, prof_status, password):\n",
    "        self.username = username\n",
    "        self.first_name = first_name\n",
    "        self.second_name = second_name\n",
    "        self.email = email\n",
    "        self.user_city = user_city\n",
    "        self.prof_status = prof_status\n",
    "        self.password = password\n",
    "\n",
    "        \n",
    "        '''Outcomes and incomes were created because other tables (outcomes and incomes) have foreign keys related with the \n",
    "table user, it should be defined later.'''\n",
    "'''\n",
    "In case of creating a new User the argument will pass to the  __init__ method in order to initialize the object. Then\n",
    "self, that it represent the instance of the class, bind the attributes with the given new arguments. It will be applied \n",
    "the same in every table.\n",
    "'''"
   ]
  },
  {
   "cell_type": "code",
   "execution_count": 7,
   "metadata": {},
   "outputs": [
    {
     "data": {
      "text/plain": [
       "'\\nOutcomes1 and incomes1 were created because other tables (outcomes and incomes) have foreign keys related with the \\ntable category, it should be defined later.\\n'"
      ]
     },
     "execution_count": 7,
     "metadata": {},
     "output_type": "execute_result"
    }
   ],
   "source": [
    "#Category has 2 columns:\n",
    "class Category(db.Model):\n",
    "    __tablename__ = 'category'\n",
    "    id = db.Column(db.Integer, primary_key=True, autoincrement=True)\n",
    "    category_name = db.Column(db.String(15), nullable=False)\n",
    "    outcomes1 = db.relationship('Outcome', backref='categories2', lazy=True)\n",
    "    incomes1 = db.relationship('Income', backref='categories3', lazy=True)\n",
    "\n",
    "    def __init__(self, category_name):\n",
    "        self.category_name = category_name\n",
    "'''\n",
    "Outcomes1 and incomes1 were created because other tables (outcomes and incomes) have foreign keys related with the \n",
    "table category, it should be defined later.\n",
    "'''"
   ]
  },
  {
   "cell_type": "code",
   "execution_count": 8,
   "metadata": {},
   "outputs": [
    {
     "data": {
      "text/plain": [
       "'\\nSenders were created because other table (outcomes) has a foreign key related with the \\ntable vendor, it should be defined later.\\n'"
      ]
     },
     "execution_count": 8,
     "metadata": {},
     "output_type": "execute_result"
    }
   ],
   "source": [
    "#Sender has\n",
    "class Sender(db.Model):\n",
    "    __tablename__ = 'sender'\n",
    "    id = db.Column(db.Integer, primary_key=True, autoincrement=True)\n",
    "    sender_name = db.Column(db.String(15), nullable=False)\n",
    "    sender_city = db.Column(db.String(15), nullable=True, default='N/A')\n",
    "    sender_country = db.Column(db.String(15), nullable=True, default='N/A')\n",
    "    senders = db.relationship('Income', backref='senders', lazy=True)\n",
    "\n",
    "    def __init__(self, sender_name, sender_city, sender_country):\n",
    "        self.sender_name = sender_name\n",
    "        self.sender_city = sender_city\n",
    "        self.sender_country = sender_country\n",
    "'''\n",
    "Senders were created because other table (outcomes) has a foreign key related with the \n",
    "table vendor, it should be defined later.\n",
    "'''"
   ]
  },
  {
   "cell_type": "code",
   "execution_count": 9,
   "metadata": {},
   "outputs": [
    {
     "data": {
      "text/plain": [
       "'\\nVendors were created because other table (outcomes) has a foreign key related with the \\ntable vendor, it should be defined later.\\n'"
      ]
     },
     "execution_count": 9,
     "metadata": {},
     "output_type": "execute_result"
    }
   ],
   "source": [
    "#Vendor has 5 columns:\n",
    "class Vendor(db.Model):\n",
    "    __tablename__ = 'vendor'\n",
    "    id = db.Column(db.Integer, primary_key=True, autoincrement=True)\n",
    "    vendor_name = db.Column(db.String(15), nullable=False)\n",
    "    vendor_city = db.Column(db.String(15), nullable=True, default='N/A')\n",
    "    vendor_country = db.Column(db.String(15), nullable=True, default='N/A')\n",
    "    vendors = db.relationship('Outcome', backref='vendors', lazy=True)\n",
    "\n",
    "    def __init__(self, vendor_name, vendor_city, vendor_country):\n",
    "        self.vendor_name = vendor_name\n",
    "        self.vendor_city = vendor_city\n",
    "        self.vendor_country = vendor_country\n",
    "'''\n",
    "Vendors were created because other table (outcomes) has a foreign key related with the \n",
    "table vendor, it should be defined later.\n",
    "'''"
   ]
  },
  {
   "cell_type": "code",
   "execution_count": 10,
   "metadata": {},
   "outputs": [
    {
     "data": {
      "text/plain": [
       "'There are three foreign keys:\\n    1)outcome.ID_user = user.id (Outcomes)\\n    2)outcome.ID_vendor = vendor.id (Vendors)\\n    3)outcome.ID_categroy = category.id (Outcomes1)\\n'"
      ]
     },
     "execution_count": 10,
     "metadata": {},
     "output_type": "execute_result"
    }
   ],
   "source": [
    "#Outcome has 10 columns:\n",
    "\n",
    "class Outcome(db.Model):\n",
    "    __tablename__ = 'outcome'\n",
    "    id = db.Column(db.Integer, primary_key=True, autoincrement=True)\n",
    "    ID_user = db.Column(db.Integer, db.ForeignKey('user.id'), \n",
    "                        nullable=False) #Outcomes\n",
    "    ID_vendor = db.Column(db.Integer, db.ForeignKey('vendor.id'),\n",
    "                          nullable=False) #Vendors\n",
    "    ID_category = db.Column(db.Integer, db.ForeignKey('category.id'),\n",
    "                            nullable=False) #Outcomes1\n",
    "    amount_outcome = db.Column(db.DECIMAL(10, 2), nullable=False)\n",
    "    currency_outcome = db.Column(db.String(3), nullable=False)\n",
    "    date_outcome = db.Column(db.String(15), nullable=False)\n",
    "    date_outcome1 = db.Column(db.Integer, nullable=False)\n",
    "    p_m_outcome = db.Column(db.String(20), nullable=False)\n",
    "    comment_outcome = db.Column(db.String(255), nullable=True, default='N/A')\n",
    "\n",
    "    def __init__(self, ID_user, ID_vendor, ID_category, amount_outcome,\n",
    "                 currency_outcome, date_outcome, p_m_outcome, comment_outcome, date_outcome1):\n",
    "        self.ID_user = ID_user\n",
    "        self.ID_vendor = ID_vendor\n",
    "        self.ID_category = ID_category\n",
    "        self.amount_outcome = amount_outcome\n",
    "        self.currency_outcome = currency_outcome\n",
    "        self.date_outcome = date_outcome\n",
    "        self.date_outcome1 = date_outcome1\n",
    "        self.p_m_outcome = p_m_outcome\n",
    "        self.comment_outcome = comment_outcome\n",
    "'''There are three foreign keys:\n",
    "    1)outcome.ID_user = user.id (Outcomes)\n",
    "    2)outcome.ID_vendor = vendor.id (Vendors)\n",
    "    3)outcome.ID_categroy = category.id (Outcomes1)\n",
    "'''"
   ]
  },
  {
   "cell_type": "code",
   "execution_count": 11,
   "metadata": {},
   "outputs": [
    {
     "data": {
      "text/plain": [
       "'There are three foreign keys:\\n    1)incomes.ID_user = user.id (Incomes)\\n    2)incomes.ID_sender = sender.id (Senders)\\n    3)incomes.ID_categroy = category.id (Incomes1)\\n'"
      ]
     },
     "execution_count": 11,
     "metadata": {},
     "output_type": "execute_result"
    }
   ],
   "source": [
    "#Income has 10 columns:\n",
    "\n",
    "class Income(db.Model):\n",
    "    __tablename__ = 'income'\n",
    "    id = db.Column(db.Integer, primary_key=True, autoincrement=True)\n",
    "    ID_user = db.Column(db.Integer, db.ForeignKey('user.id'),\n",
    "                        nullable=False) #Incomes\n",
    "    ID_sender = db.Column(db.Integer, db.ForeignKey('sender.id'),\n",
    "                          nullable=False) #Senders\n",
    "    ID_category = db.Column(db.Integer, db.ForeignKey('category.id'),\n",
    "                            nullable=False) #Incomes1\n",
    "    amount_income = db.Column(db.DECIMAL(10, 2), nullable=False)\n",
    "    currency_income = db.Column(db.String(3), nullable=False)\n",
    "    date_income = db.Column(db.String(15), nullable=False)\n",
    "    date_income1 = db.Column(db.Integer, nullable=False)\n",
    "    p_m_income = db.Column(db.String(15), nullable=False)\n",
    "    comment_income = db.Column(db.String(255), nullable=True, default='N/A')\n",
    "\n",
    "    def __init__(self, ID_user, ID_sender, ID_category, amount_income,\n",
    "                 currency_income, date_income, p_m_income, comment_income, date_income1):\n",
    "        self.ID_user = ID_user\n",
    "        self.ID_sender = ID_sender\n",
    "        self.ID_category = ID_category\n",
    "        self.amount_income = amount_income\n",
    "        self.currency_income = currency_income\n",
    "        self.date_income = date_income\n",
    "        self.date_income1 = date_income1\n",
    "        self.p_m_income = p_m_income\n",
    "        self.comment_income = comment_income\n",
    "'''There are three foreign keys:\n",
    "    1)incomes.ID_user = user.id (Incomes)\n",
    "    2)incomes.ID_sender = sender.id (Senders)\n",
    "    3)incomes.ID_categroy = category.id (Incomes1)\n",
    "'''"
   ]
  },
  {
   "cell_type": "markdown",
   "metadata": {},
   "source": [
    "    D2) Export as .db:"
   ]
  },
  {
   "cell_type": "markdown",
   "metadata": {},
   "source": [
    "We should run in the Terminal/CMD, the below code:\n",
    "\n",
    "python\n",
    "rom app import db\n",
    "db.create_all()"
   ]
  },
  {
   "cell_type": "markdown",
   "metadata": {},
   "source": [
    "    D3) Populate tables:"
   ]
  },
  {
   "cell_type": "markdown",
   "metadata": {},
   "source": [
    "Once the file expenses_tracker.db has been created, we should populate the tables: User, Category, Vendor and Sender\n",
    "To do this I creatd the SQL script: create_values.sql, and I ran the script with the help of sqlite3:"
   ]
  },
  {
   "cell_type": "markdown",
   "metadata": {},
   "source": [
    "import sqlite3\n",
    "connection = sqlite3.connect('expenses_tracker.db')\n",
    "\n",
    "\n",
    "def scriptexecution(filename):\n",
    "    with open(filename, 'r') as s:\n",
    "        sql_script = s.read()\n",
    "        connection.executescript(sql_script)\n",
    "    s.closed\n",
    "\n",
    "\n",
    "scriptexecution('create_values.sql')"
   ]
  },
  {
   "cell_type": "markdown",
   "metadata": {},
   "source": [
    "The above code was created as a Markdownd, as the tables were already populated"
   ]
  },
  {
   "cell_type": "markdown",
   "metadata": {},
   "source": [
    "E)User interface and connections:"
   ]
  },
  {
   "cell_type": "markdown",
   "metadata": {},
   "source": [
    "    E1) Login and logout pages"
   ]
  },
  {
   "cell_type": "code",
   "execution_count": 12,
   "metadata": {},
   "outputs": [],
   "source": [
    "@app.teardown_appcontext\n",
    "def close_connection(exception):\n",
    "    db = getattr(g, '_database', None)\n",
    "    if db is not None:\n",
    "        db.close()"
   ]
  },
  {
   "cell_type": "code",
   "execution_count": 13,
   "metadata": {},
   "outputs": [],
   "source": [
    "def query_db(query, args=(), one=False):\n",
    "    cur = get_db().execute(query, args)\n",
    "    rv = cur.fetchall()\n",
    "    cur.close()\n",
    "    return (rv[0] if rv else None) if one else rv"
   ]
  },
  {
   "cell_type": "code",
   "execution_count": 14,
   "metadata": {},
   "outputs": [],
   "source": [
    "def valid_login(username, password):\n",
    "    user = query_db('select * from User where username = ? and password = ?',\n",
    "                    [username, password], one=True)\n",
    "    if user is None:\n",
    "        return False\n",
    "    else:\n",
    "        return True"
   ]
  },
  {
   "cell_type": "markdown",
   "metadata": {},
   "source": [
    "@app.route(\"/\")\n",
    "@app.route('/login', methods=['POST', 'GET'])\n",
    "def login():\n",
    "    error = None\n",
    "    if request.method == 'POST':\n",
    "        if valid_login(request.form['username'], request.form['password']):\n",
    "            return log_the_user_in(request.form['username'])\n",
    "        else:\n",
    "            error = 'Invalid username/password'\n",
    "    return render_template('login.html', error=error)"
   ]
  },
  {
   "cell_type": "code",
   "execution_count": 15,
   "metadata": {},
   "outputs": [],
   "source": [
    "@app.route(\"/logout.html\")\n",
    "def logout():\n",
    "    return render_template('login.html')"
   ]
  },
  {
   "cell_type": "markdown",
   "metadata": {},
   "source": [
    "The above code check in the login page the username and password introduced is the same as the one in the table User from our database, in case the user or password is not correct the user will receive the mesagge: Invalid username/password. \n",
    "\n",
    "Also in the HTML.file: login.html it has been introduced a JavaScript function, in order to evaluate if the user submitted a username and password, because if the user just submitted one of them, the website will display an error mesagge.\n",
    "\n",
    "The logout it is a simple redirection to the login page."
   ]
  },
  {
   "cell_type": "markdown",
   "metadata": {},
   "source": [
    "    E2) Index page"
   ]
  },
  {
   "cell_type": "code",
   "execution_count": 16,
   "metadata": {},
   "outputs": [],
   "source": [
    "@app.route('/index.html')\n",
    "def index1():\n",
    "    return render_template('index.html')"
   ]
  },
  {
   "cell_type": "markdown",
   "metadata": {},
   "source": [
    "There is nothing special in the index, the user has a short description with the main funtionalities, also a menu in the left side in order to navigate through the diferent pages."
   ]
  },
  {
   "cell_type": "markdown",
   "metadata": {},
   "source": [
    "    E3) Income page"
   ]
  },
  {
   "cell_type": "code",
   "execution_count": 17,
   "metadata": {},
   "outputs": [],
   "source": [
    "@app.route('/data_form_income.html', methods=['GET', 'POST'])\n",
    "def data_form_income():\n",
    "\n",
    "    if request.method == 'POST':\n",
    "        newID_user = request.form['ID_user']\n",
    "        newID_sender = request.form['ID_sender']\n",
    "        newID_category = request.form['ID_category']\n",
    "        newamount_income = request.form['amount_income']\n",
    "        newcurrency_income = request.form['currency_income']\n",
    "        newdate_income = request.form['date_income']\n",
    "        newdate_income1 = request.form['date_income1']\n",
    "        newp_m_income = request.form['p_m_income']\n",
    "        newcomment_income = request.form['comment_income']\n",
    "        newIncome = Income(newID_user, newID_sender, newID_category, newamount_income,\n",
    "                           newcurrency_income, newdate_income, newp_m_income, newcomment_income, newdate_income1)\n",
    "        db.session.add(newIncome) #Just run the query in the session\n",
    "        db.session.commit() #The data from the session is stored into the database\n",
    "        return render_template('/index.html') #Once the data is introduced, the user will retuen to the index page\n",
    "    else:\n",
    "        return render_template('data_form_income.html')"
   ]
  },
  {
   "cell_type": "markdown",
   "metadata": {},
   "source": [
    "In this website the user will be able to select several data from a drop down list, then it should be run as a query and inroduced in the database.\n",
    "\n",
    "The user will be able to store in every query: User, Sender, Category, Amount, Currency, Month, Year, Payment method and an optional comment.\n",
    "\n",
    "It has been used the flask method: POST, this means that the user submit a request to introduce data into the database."
   ]
  },
  {
   "cell_type": "markdown",
   "metadata": {},
   "source": [
    "    E4) Outcome page:"
   ]
  },
  {
   "cell_type": "code",
   "execution_count": 18,
   "metadata": {},
   "outputs": [],
   "source": [
    "@app.route('/data_form_outcome.html', methods=['GET', 'POST'])\n",
    "def data_form_outcome():\n",
    "\n",
    "    if request.method == 'POST':\n",
    "        newID_user = request.form['ID_user']\n",
    "        newID_vendor = request.form['ID_vendor']\n",
    "        newID_category = request.form['ID_category']\n",
    "        newamount_outcome = request.form['amount_outcome']\n",
    "        newcurrency_outcome = request.form['currency_outcome']\n",
    "        newdate_outcome = request.form['date_outcome']\n",
    "        newdate_outcome1 = request.form['date_outcome1']\n",
    "        newp_m_outcome = request.form['p_m_outcome']\n",
    "        newcomment_outcome = request.form['comment_outcome']\n",
    "        newOutcome = Outcome(newID_user, newID_vendor, newID_category, newamount_outcome,\n",
    "                             newcurrency_outcome, newdate_outcome, newp_m_outcome, newcomment_outcome, newdate_outcome1)\n",
    "        db.session.add(newOutcome)\n",
    "        db.session.commit()\n",
    "        return render_template('/index.html')\n",
    "    else:\n",
    "        return render_template('data_form_outcome.html')"
   ]
  },
  {
   "cell_type": "markdown",
   "metadata": {},
   "source": [
    "In this website the user will be able to select several data from a drop down list, then it should be run as a query and inroduced in the database.\n",
    "\n",
    "The user will be able to store in every query: User, Vendor, Category, Amount, Currency, Month, Year, Payment method and an optional comment.\n",
    "\n",
    "It has been used the flask method: POST, this means that the user submit a request to introduce data into the database."
   ]
  },
  {
   "cell_type": "markdown",
   "metadata": {},
   "source": [
    "    E5) Analysis page:"
   ]
  },
  {
   "cell_type": "code",
   "execution_count": 19,
   "metadata": {},
   "outputs": [],
   "source": [
    "@app.route('/analysis.html')\n",
    "def analysis():\n",
    "    return render_template('analysis.html')"
   ]
  },
  {
   "cell_type": "markdown",
   "metadata": {},
   "source": [
    "I would like to mentioned that it has been created only for one user: jorge10:"
   ]
  },
  {
   "cell_type": "code",
   "execution_count": 20,
   "metadata": {},
   "outputs": [],
   "source": [
    "@app.route('/jorge10.html', methods=['GET', 'POST'])\n",
    "def analysisjorge10():\n",
    "    db = get_db()\n",
    "    cur = db.execute('SELECT(val1 - val2) \\\n",
    "                     FROM(SELECT ID_user, currency_income, sum(amount_income) AS val1 \\\n",
    "                          FROM income \\\n",
    "                          GROUP BY ID_user) inc \\\n",
    "                     JOIN(SELECT ID_user, currency_outcome, sum(amount_outcome) AS val2 \\\n",
    "                          FROM outcome \\\n",
    "                          GROUP BY ID_user) out \\\n",
    "                     ON(inc.ID_user=out.ID_user) \\\n",
    "                     WHERE out.ID_user=10 \\\n",
    "                        AND out.currency_outcome=\"pln\" \\\n",
    "                        AND inc.currency_income=\"pln\"') #SQLAlchemy - Current balance - value\n",
    "\n",
    "    cur1 = db.execute('SELECT sum(outcome.amount_outcome) \\\n",
    "                        FROM outcome \\\n",
    "                        INNER JOIN user, vendor \\\n",
    "                            ON outcome.ID_vendor=vendor.id \\\n",
    "                            AND outcome.ID_user=user.id \\\n",
    "                        WHERE user.username=\"jorge10\" \\\n",
    "                            AND vendor.vendor_name=\"Biedronka\"') #SQLAlchemy - Total spent in Biedronka - value\n",
    "\n",
    "    cur2 = db.execute('SELECT SUM(outcome.amount_outcome) \\\n",
    "                      FROM outcome \\\n",
    "                      INNER JOIN category \\\n",
    "                        ON outcome.ID_category=category.id \\\n",
    "                      WHERE outcome.ID_user=10 \\\n",
    "                        AND category.category_name=\"Parties\" \\\n",
    "                        AND outcome.date_outcome=\"Dec\" \\\n",
    "                        AND outcome.date_outcome1=\"2019\" \\\n",
    "                        AND outcome.currency_outcome=\"pln\"') \n",
    "                        #SQLAlchemy - Total spent in parties in December 2019 - value\n",
    "\n",
    "    cur3 = db.execute('SELECT ROUND(AVG(outcome.amount_outcome), 2) \\\n",
    "                        FROM outcome \\\n",
    "                        WHERE outcome.ID_category=25 \\\n",
    "                            AND outcome.currency_outcome=\"pln\"') #SQLAlchemy - Average spent in rent - value\n",
    "\n",
    "    df3 = pd.read_sql_query('SELECT outcome.amount_outcome, outcome.currency_outcome, \\\n",
    "                    category.category_name, vendor.vendor_name \\\n",
    "                        FROM outcome \\\n",
    "                        INNER JOIN category, vendor, user \\\n",
    "                            ON outcome.ID_category=category.id \\\n",
    "                            AND outcome.ID_vendor=vendor.id \\\n",
    "                            AND outcome.ID_user=user.id \\\n",
    "                        WHERE user.id=10 \\\n",
    "                            AND outcome.date_outcome=\"Dec\" \\\n",
    "                            AND outcome.date_outcome1=2019 '\\\n",
    "                            , connection) #SQLite3 - pandas - Outcomes introduced in December 2019 - table\n",
    "\n",
    "    df3.rename(columns={'amount_outcome': 'Amount', 'currency_outcome': 'Currency',\n",
    "                        'category_name': 'Category', 'vendor_name': 'Vendor'}, inplace=True)\n",
    "                        #In order to change the name \n",
    "\n",
    "    balance = cur.fetchall()\n",
    "    out_cat = cur1.fetchall()\n",
    "    out_cat1 = cur2.fetchall()\n",
    "    avg_out = cur3.fetchall()\n",
    "\n",
    "    return render_template('jorge10.html', balance=balance, out_cat=out_cat,\n",
    "                           out_cat1=out_cat1, avg_out=avg_out, tables=[\n",
    "                               df3.to_html(classes='data')],\n",
    "                           titles=df3.columns.values)"
   ]
  },
  {
   "cell_type": "markdown",
   "metadata": {},
   "source": [
    "It has been created 5 diferent SLQ queries:\n",
    "    1)Current balance - value\n",
    "    2)Total spent in Biedronka - value\n",
    "    3)Total spent in parties in December 2019 - value\n",
    "    4)Average spent in rent - value\n",
    "    5)Outcomes introduced in December 2019 - table"
   ]
  },
  {
   "cell_type": "markdown",
   "metadata": {},
   "source": [
    "It has been used the flask method: GET, in this case the user run a request to the server, in order to have some data from the database."
   ]
  },
  {
   "cell_type": "markdown",
   "metadata": {},
   "source": [
    "    E6) Graphs page:"
   ]
  },
  {
   "cell_type": "code",
   "execution_count": 21,
   "metadata": {},
   "outputs": [],
   "source": [
    "@app.route(\"/graphs.html\")\n",
    "def graphs():\n",
    "    return render_template('graphs.html')"
   ]
  },
  {
   "cell_type": "markdown",
   "metadata": {},
   "source": [
    "I would like to mentioned that it has been created only for one user: jorge10:"
   ]
  },
  {
   "cell_type": "code",
   "execution_count": 22,
   "metadata": {},
   "outputs": [],
   "source": [
    "@app.route('/graphs1.html')\n",
    "def build_plot():\n",
    "    df = pd.read_sql_query('SELECT  date_outcome, SUM(outcome.amount_outcome) \\\n",
    "                       FROM    outcome \\\n",
    "                       INNER JOIN user \\\n",
    "                       on outcome.ID_user=user.id \\\n",
    "                       WHERE user.username=\"jorge10\" \\\n",
    "                       AND outcome.amount_outcome \\\n",
    "                       AND outcome.date_outcome1=2019\\\n",
    "                       GROUP BY outcome.date_outcome',\n",
    "                           connection) ##SQLite3 - pandas - Total outcomes per month in 2019 - table\n",
    "    df.rename(columns={'date_outcome': 'Month',\n",
    "                       'SUM(outcome.amount_outcome)': 'Outcome'}, inplace=True)\n",
    "                        #In order to change the name of the columns of our data frame df\n",
    "        \n",
    "    df.loc[df['Month'] == \"Jan\", 'C'] = 1\n",
    "    df.loc[df['Month'] == \"Feb\", 'C'] = 2\n",
    "    df.loc[df['Month'] == \"Mar\", 'C'] = 3\n",
    "    df.loc[df['Month'] == \"Apr\", 'C'] = 4\n",
    "    df.loc[df['Month'] == \"May\", 'C'] = 5\n",
    "    df.loc[df['Month'] == \"Jun\", 'C'] = 6\n",
    "    df.loc[df['Month'] == \"Jul\", 'C'] = 7\n",
    "    df.loc[df['Month'] == \"Aug\", 'C'] = 8\n",
    "    df.loc[df['Month'] == \"Sep\", 'C'] = 9\n",
    "    df.loc[df['Month'] == \"Oct\", 'C'] = 10\n",
    "    df.loc[df['Month'] == \"Nov\", 'C'] = 11\n",
    "    df.loc[df['Month'] == \"Dec\", 'C'] = 12\n",
    "    '''Into the df the data is not ordered by month, it is order by the Outcome.id (the same order as the user \n",
    "    introduced the date).\n",
    "\n",
    "    For this, to order the data frame, the above code created a new column (C) with values a new values, based of the \n",
    "    string values of the column Month, by the condition: Jan == 1, Feb == 2 ... like that till the last month.\n",
    "\n",
    "    Now we will be able to order the data based on the column C, with the below code, then we will create a new \n",
    "    dataframe (df2), with the columns that we need (Month and Outcome):\n",
    "    '''\n",
    "    dfa = df.sort_values(['C'], ascending=True)\n",
    "    df2 = dfa[['Month', 'Outcome']].copy()\n",
    "    \n",
    "    #Now we will proceed to create a bar chart of our df2, with the help of matplotlib.pyplot\n",
    "    img = io.BytesIO()\n",
    "    plt.bar(df2['Month'], df2['Outcome'], color='teal')\n",
    "    plt.title('Graph 1: Vertical bar chart of otcomes per month in 2019:') #To create tittle\n",
    "    plt.xlabel('Month (2019)') #To show the value of x\n",
    "    plt.ylabel('Outcome (PLN)') #To show the value of y\n",
    "    plt.savefig(img, format='png')\n",
    "    img.seek(0)\n",
    "\n",
    "    plot_url = base64.b64encode(img.getvalue()).decode()\n",
    "    \n",
    "    return '<img src=\"data:image/png;base64,{}\">'.format(plot_url)\n",
    "    #Finally we will go to a new website, where the user will be only able to see the graph"
   ]
  },
  {
   "cell_type": "markdown",
   "metadata": {},
   "source": [
    "It has been created one SQL query: Total outcomes per month in 2019\n",
    "\n",
    "The result was store in the data frame: df, created with pandas."
   ]
  },
  {
   "cell_type": "markdown",
   "metadata": {},
   "source": [
    "It has been used the flask method: GET, in this case the user run a request to the server, in order to have some data from the database.\n",
    "\n",
    "It was not declarated in @app.route, as this method is predeterminate."
   ]
  },
  {
   "cell_type": "markdown",
   "metadata": {},
   "source": [
    "F) Final connection with the server"
   ]
  },
  {
   "cell_type": "markdown",
   "metadata": {},
   "source": [
    "Finally we can run our application into the server with the below code.\n",
    "\n",
    "Please note that I included the below code as a comment, because some issues with the server happened. I will recomend to run the app from the original python file: app.py, intead of running this jupyer notebook."
   ]
  },
  {
   "cell_type": "code",
   "execution_count": 23,
   "metadata": {},
   "outputs": [],
   "source": [
    "#if __name__ == \"__main__\":\n",
    "    #app.run(debug=True) \n",
    "#With debug as True, it is not needed to restar the server when something was changed"
   ]
  }
 ],
 "metadata": {
  "kernelspec": {
   "display_name": "Python 3.7.4 64-bit",
   "language": "python",
   "name": "python37464bita10236bd7a5d4614bd74ed74f954bf6b"
  },
  "language_info": {
   "codemirror_mode": {
    "name": "ipython",
    "version": 3
   },
   "file_extension": ".py",
   "mimetype": "text/x-python",
   "name": "python",
   "nbconvert_exporter": "python",
   "pygments_lexer": "ipython3",
   "version": "3.7.4"
  }
 },
 "nbformat": 4,
 "nbformat_minor": 2
}
